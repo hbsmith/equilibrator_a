{
 "cells": [
  {
   "cell_type": "markdown",
   "metadata": {},
   "source": [
    "# Examples highlighting eQuilibrator use on arbitrary compounds\n",
    "This notebook gives examples of how to use the modified equilibrator program with custom ccache"
   ]
  },
  {
   "cell_type": "code",
   "execution_count": 1,
   "metadata": {
    "tags": []
   },
   "outputs": [
    {
     "output_type": "stream",
     "name": "stdout",
     "text": "Downloading package metadata...\nFragments already downloaded\nDownloading package metadata...\nFragments already downloaded\n"
    }
   ],
   "source": [
    "import equilibrator_a as ea\n",
    "from equilibrator_cache import Q_\n",
    "from component_contribution.predict import GibbsEnergyPredictor\n",
    "GP = GibbsEnergyPredictor()\n",
    "\n",
    "# if the ./cache/compounds.sqlite does not exist, importing equilibrator_a will generate this from equilibrator/cache\n",
    "# see next section for specific quilt repos"
   ]
  },
  {
   "cell_type": "markdown",
   "metadata": {},
   "source": [
    "# Resetting ccache\n",
    "In the event the ccache (.sqlite file) should be reset. equilibrator_a will automatically check for a .sqlite file and if it doesn't exist generate it from the default equilibrator/cache quitl repo. A specific quilt repo can be specified as well."
   ]
  },
  {
   "cell_type": "code",
   "execution_count": 2,
   "metadata": {
    "tags": []
   },
   "outputs": [
    {
     "output_type": "stream",
     "name": "stdout",
     "text": "Attempting to install equilibrator/cache from quilt.\nDownloading package metadata...\nFragments already downloaded\nRemoving old cache and generate new one\nExporting file 2 of 2 [00:02]: compounds.sqlite\n"
    }
   ],
   "source": [
    "# resetting the cache to a specified quilt repo\n",
    "ea.generate_new_ccache('equilibrator/cache')"
   ]
  },
  {
   "cell_type": "markdown",
   "metadata": {},
   "source": [
    "# Generating compound objects and saving to the .sqlite"
   ]
  },
  {
   "cell_type": "code",
   "execution_count": 4,
   "metadata": {
    "tags": []
   },
   "outputs": [
    {
     "output_type": "stream",
     "name": "stdout",
     "text": "cpd_get id: 287\n"
    }
   ],
   "source": [
    "# get_compound first tries to find a compound in the ccache that matches the smiles. If not found it calculates\n",
    "# using cxcalc. Both functions return a compound object\n",
    "mol_string = 'CCO'\n",
    "cpd_get = ea.get_compound(mol_string)\n",
    "\n",
    "# A compound with an id less than ~51000 is already existing in the database\n",
    "print(f'cpd_get id: {cpd_get.id}')"
   ]
  },
  {
   "cell_type": "code",
   "execution_count": 5,
   "metadata": {
    "tags": []
   },
   "outputs": [
    {
     "output_type": "stream",
     "name": "stdout",
     "text": "cpd_get id: 51439\n"
    }
   ],
   "source": [
    "# For a compound not in ccache cpd_get and cpd_get inserts into the ccache and assigns an id in the fifty-thousands range. \n",
    "# Using an arbitrary compound here.\n",
    "mol_string = 'C(O)CCCCCCCO'\n",
    "cpd_get = ea.get_compound(mol_string)\n",
    "cpd_id = cpd_get.id\n",
    "# The new compound has a large id\n",
    "print(f'cpd_get id: {cpd_id}')"
   ]
  },
  {
   "cell_type": "markdown",
   "metadata": {},
   "source": [
    "# Calculating ∆Go and ∆G'o \n",
    "This works the exact same way as equilibrator code"
   ]
  },
  {
   "cell_type": "code",
   "execution_count": 6,
   "metadata": {
    "tags": []
   },
   "outputs": [
    {
     "output_type": "stream",
     "name": "stdout",
     "text": "cpd_get id: 1280\n(-453.0 +/- 1.3) kilojoule / mole\n"
    }
   ],
   "source": [
    "# Calculating ∆Go\n",
    "# Comparing results from the two methods for a compound in ccache and NOT in the training data\n",
    "mol_smiles = 'C(=O)CCCC(O)=O'\n",
    "cpd_get = ea.get_compound(mol_smiles)\n",
    "print(f'cpd_get id: {cpd_get.id}')\n",
    "\n",
    "print(GP.standard_dgf(cpd_get))"
   ]
  },
  {
   "cell_type": "code",
   "execution_count": 7,
   "metadata": {
    "tags": []
   },
   "outputs": [
    {
     "output_type": "stream",
     "name": "stdout",
     "text": "cpd_get id: 694325\n(-229.9 +/- 3.4) kilojoule / mole\n"
    }
   ],
   "source": [
    "# Calculating ∆G'o for a compound in the ccache without magensium data and not in the training data\n",
    "mol_smiles = 'C(=O)CCOCCOCC(O)=O'\n",
    "cpd_get = ea.get_compound(mol_smiles)\n",
    "cond = {\n",
    "    'p_h': Q_(7),\n",
    "    'ionic_strength': Q_('0.1M'),\n",
    "    'temperature': Q_('298.15K'),\n",
    "    'p_mg': Q_(3)}\n",
    "    \n",
    "print(f'cpd_get id: {cpd_get.id}')\n",
    "print(GP.standard_dgf_prime(cpd_get, **cond))"
   ]
  },
  {
   "cell_type": "code",
   "execution_count": null,
   "metadata": {},
   "outputs": [],
   "source": []
  }
 ],
 "metadata": {
  "language_info": {
   "codemirror_mode": {
    "name": "ipython",
    "version": 3
   },
   "file_extension": ".py",
   "mimetype": "text/x-python",
   "name": "python",
   "nbconvert_exporter": "python",
   "pygments_lexer": "ipython3",
   "version": "3.7.6-final"
  },
  "orig_nbformat": 2,
  "kernelspec": {
   "name": "python_defaultSpec_1596697076607",
   "display_name": "Python 3.7.6 64-bit ('base': conda)"
  }
 },
 "nbformat": 4,
 "nbformat_minor": 2
}